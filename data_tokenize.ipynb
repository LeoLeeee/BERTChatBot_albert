{
 "metadata": {
  "language_info": {
   "codemirror_mode": {
    "name": "ipython",
    "version": 3
   },
   "file_extension": ".py",
   "mimetype": "text/x-python",
   "name": "python",
   "nbconvert_exporter": "python",
   "pygments_lexer": "ipython3",
   "version": "3.8.5"
  },
  "orig_nbformat": 2,
  "kernelspec": {
   "name": "python385jvsc74a57bd087ea0c2bfc8d33363b62de134cfa12cc037bed7b7625ab24887ee8fe91891aef",
   "display_name": "Python 3.8.5 64-bit ('pytorch_gpu': conda)"
  }
 },
 "nbformat": 4,
 "nbformat_minor": 2,
 "cells": [
  {
   "cell_type": "code",
   "execution_count": 1,
   "metadata": {},
   "outputs": [],
   "source": [
    "import data_tokenize"
   ]
  },
  {
   "cell_type": "code",
   "execution_count": 2,
   "metadata": {
    "tags": []
   },
   "outputs": [
    {
     "output_type": "stream",
     "name": "stdout",
     "text": [
      "[['呵呵', '是王若猫的'], ['不是', '那是什么'], ['怎么了', '我很难过安慰我~']]\n"
     ]
    }
   ],
   "source": [
    "convs = data_tokenize.get_convs()\n",
    "print(convs[:3])"
   ]
  },
  {
   "cell_type": "code",
   "execution_count": 5,
   "metadata": {},
   "outputs": [],
   "source": [
    "with open(\"train_data/xiaohuangji50w_nofenci.txt\", 'w', encoding='utf-8') as f:\n",
    "    for paragraphs in convs:\n",
    "        for item in paragraphs:\n",
    "            f.write(item)\n",
    "            f.write('\\n')\n",
    "    "
   ]
  }
 ]
}