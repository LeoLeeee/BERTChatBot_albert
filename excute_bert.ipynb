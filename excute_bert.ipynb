{
 "metadata": {
  "language_info": {
   "codemirror_mode": {
    "name": "ipython",
    "version": 3
   },
   "file_extension": ".py",
   "mimetype": "text/x-python",
   "name": "python",
   "nbconvert_exporter": "python",
   "pygments_lexer": "ipython3",
   "version": "3.8.5"
  },
  "orig_nbformat": 2,
  "kernelspec": {
   "name": "python385jvsc74a57bd087ea0c2bfc8d33363b62de134cfa12cc037bed7b7625ab24887ee8fe91891aef",
   "display_name": "Python 3.8.5 64-bit ('pytorch_gpu': conda)"
  }
 },
 "nbformat": 4,
 "nbformat_minor": 2,
 "cells": [
  {
   "cell_type": "code",
   "execution_count": 1,
   "metadata": {},
   "outputs": [
    {
     "output_type": "execute_result",
     "data": {
      "text/plain": [
       "<module 'BERTModel' from 'e:\\\\ML\\\\chatbot\\\\BERTChatBot_with_pretrained_model\\\\BERTModel.py'>"
      ]
     },
     "metadata": {},
     "execution_count": 1
    }
   ],
   "source": [
    "# coding = utf-8\n",
    "\n",
    "import torch\n",
    "from torch import nn\n",
    "import os\n",
    "import data_load_for_Transformer as dlft\n",
    "import BERT_pretraining_single\n",
    "import BERTModel\n",
    "import Utility\n",
    "import imp\n",
    "imp.reload(BERTModel)"
   ]
  },
  {
   "cell_type": "code",
   "execution_count": 2,
   "metadata": {},
   "outputs": [],
   "source": [
    "# print(\"Initiating the hyperparameters...\")\n",
    "# num_hiddens, num_layers, dropout, batch_size, num_steps = 32, 2, 0.1, 128, 16\n",
    "# lr, num_epochs, device = 0.001, 2000, Utility.try_gpu()\n",
    "# ffn_num_input, ffn_num_hiddens, num_heads = 32, 64, 4\n",
    "# key_size, query_size, value_size = 32, 32, 32\n",
    "# norm_shape = [32]"
   ]
  },
  {
   "cell_type": "code",
   "execution_count": 3,
   "metadata": {},
   "outputs": [
    {
     "output_type": "stream",
     "name": "stdout",
     "text": [
      "Initiating the hyperparameters...\n"
     ]
    }
   ],
   "source": [
    "print(\"Initiating the hyperparameters...\")\n",
    "num_hiddens, num_layers, dropout, batch_size, num_steps = 128, 2, 0.1, 384, 16\n",
    "lr, num_epochs, device = 0.001, 20, Utility.try_gpu()\n",
    "ffn_num_input, ffn_num_hiddens, num_heads = 128, 128, 4\n",
    "key_size, query_size, value_size = 128, 128, 128\n",
    "norm_shape = [128]\n",
    "using_bias = True"
   ]
  },
  {
   "cell_type": "code",
   "execution_count": 4,
   "metadata": {},
   "outputs": [
    {
     "output_type": "stream",
     "name": "stdout",
     "text": [
      "Building the vocabulary...\n",
      "['[PAD]', '[UNK]', '[CLS]', '[SEP]', '[MASK]', '你', '我', '的', '了', '是']\n"
     ]
    },
    {
     "output_type": "execute_result",
     "data": {
      "text/plain": [
       "(1034, 25122)"
      ]
     },
     "metadata": {},
     "execution_count": 4
    }
   ],
   "source": [
    "print(\"Building the vocabulary...\")\n",
    "train_iter, vocab = dlft.load_data_xhj_for_Transformer(batch_size, num_steps, token='word', load=True)\n",
    "len(train_iter), len(vocab)"
   ]
  },
  {
   "cell_type": "code",
   "execution_count": 5,
   "metadata": {
    "tags": []
   },
   "outputs": [
    {
     "output_type": "stream",
     "name": "stdout",
     "text": [
      "['[PAD]', '[UNK]', '[CLS]', '[SEP]', '[MASK]', '你', '我', '的', '了', '是']\n"
     ]
    }
   ],
   "source": [
    "print(vocab.to_tokens([0,1,2,3,4,5,6,7,8,9]))"
   ]
  },
  {
   "cell_type": "code",
   "execution_count": 6,
   "metadata": {},
   "outputs": [
    {
     "output_type": "stream",
     "name": "stderr",
     "text": [
      "Some weights of the model checkpoint at ./outputs/ were not used when initializing AlbertModel: ['predictions.LayerNorm.bias', 'predictions.bias', 'predictions.dense.bias', 'predictions.dense.weight', 'predictions.decoder.bias', 'predictions.LayerNorm.weight', 'predictions.decoder.weight']\n",
      "- This IS expected if you are initializing AlbertModel from the checkpoint of a model trained on another task or with another architecture (e.g. initializing a BertForSequenceClassification model from a BertForPreTraining model).\n",
      "- This IS NOT expected if you are initializing AlbertModel from the checkpoint of a model that you expect to be exactly identical (initializing a BertForSequenceClassification model from a BertForSequenceClassification model).\n",
      "Some weights of AlbertModel were not initialized from the model checkpoint at ./outputs/ and are newly initialized: ['albert.pooler.weight', 'albert.pooler.bias']\n",
      "You should probably TRAIN this model on a down-stream task to be able to use it for predictions and inference.\n",
      "Rebuilding the Model...\n",
      "Can not load the model with error: [Errno 2] No such file or directory: 'model_data/model_bert.pt'\n",
      "Ready to working...\n"
     ]
    }
   ],
   "source": [
    "print(\"Rebuilding the Model...\")\n",
    "\n",
    "encoder = BERTModel.BERTEncoder( bert_name='./outputs/', hid_in_features=num_hiddens, num_outputs=num_hiddens)\n",
    "decoder = BERTModel.TransformerDecoder(\n",
    "    len(vocab), key_size, query_size, value_size, num_hiddens,\n",
    "    norm_shape, ffn_num_input, ffn_num_hiddens, num_heads,\n",
    "    num_layers, dropout)\n",
    "net = BERTModel.EncoderDecoder(encoder, decoder)\n",
    "\n",
    "try:\n",
    "    checkpoint_prefix = os.path.join(\"model_data/model_bert.pt\")\n",
    "    checkpoint = torch.load(checkpoint_prefix)\n",
    "    net.load_state_dict(checkpoint['model_state_dict'])\n",
    "    print(\"Load model success\")\n",
    "except Exception as e:\n",
    "    print(\"Can not load the model with error:\", e)\n",
    "\n",
    "print(\"Ready to working...\")\n",
    "def predict(src_sentence):\n",
    "    return BERTModel.predict_seq2seq(net, src_sentence, vocab, vocab, num_steps,\n",
    "                    device, save_attention_weights=False)\n"
   ]
  },
  {
   "cell_type": "code",
   "execution_count": 7,
   "metadata": {},
   "outputs": [
    {
     "output_type": "stream",
     "name": "stdout",
     "text": [
      "loss 0.168, 11972.0 tokens/sec on cuda:0\n"
     ]
    },
    {
     "output_type": "display_data",
     "data": {
      "text/plain": "<Figure size 252x180 with 1 Axes>",
      "image/svg+xml": "<?xml version=\"1.0\" encoding=\"utf-8\" standalone=\"no\"?>\r\n<!DOCTYPE svg PUBLIC \"-//W3C//DTD SVG 1.1//EN\"\r\n  \"http://www.w3.org/Graphics/SVG/1.1/DTD/svg11.dtd\">\r\n<!-- Created with matplotlib (https://matplotlib.org/) -->\r\n<svg height=\"180.65625pt\" version=\"1.1\" viewBox=\"0 0 254.476275 180.65625\" width=\"254.476275pt\" xmlns=\"http://www.w3.org/2000/svg\" xmlns:xlink=\"http://www.w3.org/1999/xlink\">\r\n <metadata>\r\n  <rdf:RDF xmlns:cc=\"http://creativecommons.org/ns#\" xmlns:dc=\"http://purl.org/dc/elements/1.1/\" xmlns:rdf=\"http://www.w3.org/1999/02/22-rdf-syntax-ns#\">\r\n   <cc:Work>\r\n    <dc:type rdf:resource=\"http://purl.org/dc/dcmitype/StillImage\"/>\r\n    <dc:date>2021-06-08T19:17:50.967511</dc:date>\r\n    <dc:format>image/svg+xml</dc:format>\r\n    <dc:creator>\r\n     <cc:Agent>\r\n      <dc:title>Matplotlib v3.3.2, https://matplotlib.org/</dc:title>\r\n     </cc:Agent>\r\n    </dc:creator>\r\n   </cc:Work>\r\n  </rdf:RDF>\r\n </metadata>\r\n <defs>\r\n  <style type=\"text/css\">*{stroke-linecap:butt;stroke-linejoin:round;}</style>\r\n </defs>\r\n <g id=\"figure_1\">\r\n  <g id=\"patch_1\">\r\n   <path d=\"M 0 180.65625 \r\nL 254.476275 180.65625 \r\nL 254.476275 0 \r\nL 0 0 \r\nz\r\n\" style=\"fill:none;\"/>\r\n  </g>\r\n  <g id=\"axes_1\">\r\n   <g id=\"patch_2\">\r\n    <path d=\"M 50.14375 143.1 \r\nL 245.44375 143.1 \r\nL 245.44375 7.2 \r\nL 50.14375 7.2 \r\nz\r\n\" style=\"fill:#ffffff;\"/>\r\n   </g>\r\n   <g id=\"matplotlib.axis_1\">\r\n    <g id=\"xtick_1\">\r\n     <g id=\"line2d_1\">\r\n      <path clip-path=\"url(#p70d81fc41e)\" d=\"M 58.154947 143.1 \r\nL 58.154947 7.2 \r\n\" style=\"fill:none;stroke:#b0b0b0;stroke-linecap:square;stroke-width:0.8;\"/>\r\n     </g>\r\n     <g id=\"line2d_2\">\r\n      <defs>\r\n       <path d=\"M 0 0 \r\nL 0 3.5 \r\n\" id=\"m31d0624076\" style=\"stroke:#000000;stroke-width:0.8;\"/>\r\n      </defs>\r\n      <g>\r\n       <use style=\"stroke:#000000;stroke-width:0.8;\" x=\"58.154947\" xlink:href=\"#m31d0624076\" y=\"143.1\"/>\r\n      </g>\r\n     </g>\r\n     <g id=\"text_1\">\r\n      <!-- 0 -->\r\n      <g transform=\"translate(54.973697 157.698438)scale(0.1 -0.1)\">\r\n       <defs>\r\n        <path d=\"M 31.78125 66.40625 \r\nQ 24.171875 66.40625 20.328125 58.90625 \r\nQ 16.5 51.421875 16.5 36.375 \r\nQ 16.5 21.390625 20.328125 13.890625 \r\nQ 24.171875 6.390625 31.78125 6.390625 \r\nQ 39.453125 6.390625 43.28125 13.890625 \r\nQ 47.125 21.390625 47.125 36.375 \r\nQ 47.125 51.421875 43.28125 58.90625 \r\nQ 39.453125 66.40625 31.78125 66.40625 \r\nz\r\nM 31.78125 74.21875 \r\nQ 44.046875 74.21875 50.515625 64.515625 \r\nQ 56.984375 54.828125 56.984375 36.375 \r\nQ 56.984375 17.96875 50.515625 8.265625 \r\nQ 44.046875 -1.421875 31.78125 -1.421875 \r\nQ 19.53125 -1.421875 13.0625 8.265625 \r\nQ 6.59375 17.96875 6.59375 36.375 \r\nQ 6.59375 54.828125 13.0625 64.515625 \r\nQ 19.53125 74.21875 31.78125 74.21875 \r\nz\r\n\" id=\"DejaVuSans-48\"/>\r\n       </defs>\r\n       <use xlink:href=\"#DejaVuSans-48\"/>\r\n      </g>\r\n     </g>\r\n    </g>\r\n    <g id=\"xtick_2\">\r\n     <g id=\"line2d_3\">\r\n      <path clip-path=\"url(#p70d81fc41e)\" d=\"M 101.458717 143.1 \r\nL 101.458717 7.2 \r\n\" style=\"fill:none;stroke:#b0b0b0;stroke-linecap:square;stroke-width:0.8;\"/>\r\n     </g>\r\n     <g id=\"line2d_4\">\r\n      <g>\r\n       <use style=\"stroke:#000000;stroke-width:0.8;\" x=\"101.458717\" xlink:href=\"#m31d0624076\" y=\"143.1\"/>\r\n      </g>\r\n     </g>\r\n     <g id=\"text_2\">\r\n      <!-- 5000 -->\r\n      <g transform=\"translate(88.733717 157.698438)scale(0.1 -0.1)\">\r\n       <defs>\r\n        <path d=\"M 10.796875 72.90625 \r\nL 49.515625 72.90625 \r\nL 49.515625 64.59375 \r\nL 19.828125 64.59375 \r\nL 19.828125 46.734375 \r\nQ 21.96875 47.46875 24.109375 47.828125 \r\nQ 26.265625 48.1875 28.421875 48.1875 \r\nQ 40.625 48.1875 47.75 41.5 \r\nQ 54.890625 34.8125 54.890625 23.390625 \r\nQ 54.890625 11.625 47.5625 5.09375 \r\nQ 40.234375 -1.421875 26.90625 -1.421875 \r\nQ 22.3125 -1.421875 17.546875 -0.640625 \r\nQ 12.796875 0.140625 7.71875 1.703125 \r\nL 7.71875 11.625 \r\nQ 12.109375 9.234375 16.796875 8.0625 \r\nQ 21.484375 6.890625 26.703125 6.890625 \r\nQ 35.15625 6.890625 40.078125 11.328125 \r\nQ 45.015625 15.765625 45.015625 23.390625 \r\nQ 45.015625 31 40.078125 35.4375 \r\nQ 35.15625 39.890625 26.703125 39.890625 \r\nQ 22.75 39.890625 18.8125 39.015625 \r\nQ 14.890625 38.140625 10.796875 36.28125 \r\nz\r\n\" id=\"DejaVuSans-53\"/>\r\n       </defs>\r\n       <use xlink:href=\"#DejaVuSans-53\"/>\r\n       <use x=\"63.623047\" xlink:href=\"#DejaVuSans-48\"/>\r\n       <use x=\"127.246094\" xlink:href=\"#DejaVuSans-48\"/>\r\n       <use x=\"190.869141\" xlink:href=\"#DejaVuSans-48\"/>\r\n      </g>\r\n     </g>\r\n    </g>\r\n    <g id=\"xtick_3\">\r\n     <g id=\"line2d_5\">\r\n      <path clip-path=\"url(#p70d81fc41e)\" d=\"M 144.762486 143.1 \r\nL 144.762486 7.2 \r\n\" style=\"fill:none;stroke:#b0b0b0;stroke-linecap:square;stroke-width:0.8;\"/>\r\n     </g>\r\n     <g id=\"line2d_6\">\r\n      <g>\r\n       <use style=\"stroke:#000000;stroke-width:0.8;\" x=\"144.762486\" xlink:href=\"#m31d0624076\" y=\"143.1\"/>\r\n      </g>\r\n     </g>\r\n     <g id=\"text_3\">\r\n      <!-- 10000 -->\r\n      <g transform=\"translate(128.856236 157.698438)scale(0.1 -0.1)\">\r\n       <defs>\r\n        <path d=\"M 12.40625 8.296875 \r\nL 28.515625 8.296875 \r\nL 28.515625 63.921875 \r\nL 10.984375 60.40625 \r\nL 10.984375 69.390625 \r\nL 28.421875 72.90625 \r\nL 38.28125 72.90625 \r\nL 38.28125 8.296875 \r\nL 54.390625 8.296875 \r\nL 54.390625 0 \r\nL 12.40625 0 \r\nz\r\n\" id=\"DejaVuSans-49\"/>\r\n       </defs>\r\n       <use xlink:href=\"#DejaVuSans-49\"/>\r\n       <use x=\"63.623047\" xlink:href=\"#DejaVuSans-48\"/>\r\n       <use x=\"127.246094\" xlink:href=\"#DejaVuSans-48\"/>\r\n       <use x=\"190.869141\" xlink:href=\"#DejaVuSans-48\"/>\r\n       <use x=\"254.492188\" xlink:href=\"#DejaVuSans-48\"/>\r\n      </g>\r\n     </g>\r\n    </g>\r\n    <g id=\"xtick_4\">\r\n     <g id=\"line2d_7\">\r\n      <path clip-path=\"url(#p70d81fc41e)\" d=\"M 188.066256 143.1 \r\nL 188.066256 7.2 \r\n\" style=\"fill:none;stroke:#b0b0b0;stroke-linecap:square;stroke-width:0.8;\"/>\r\n     </g>\r\n     <g id=\"line2d_8\">\r\n      <g>\r\n       <use style=\"stroke:#000000;stroke-width:0.8;\" x=\"188.066256\" xlink:href=\"#m31d0624076\" y=\"143.1\"/>\r\n      </g>\r\n     </g>\r\n     <g id=\"text_4\">\r\n      <!-- 15000 -->\r\n      <g transform=\"translate(172.160006 157.698438)scale(0.1 -0.1)\">\r\n       <use xlink:href=\"#DejaVuSans-49\"/>\r\n       <use x=\"63.623047\" xlink:href=\"#DejaVuSans-53\"/>\r\n       <use x=\"127.246094\" xlink:href=\"#DejaVuSans-48\"/>\r\n       <use x=\"190.869141\" xlink:href=\"#DejaVuSans-48\"/>\r\n       <use x=\"254.492188\" xlink:href=\"#DejaVuSans-48\"/>\r\n      </g>\r\n     </g>\r\n    </g>\r\n    <g id=\"xtick_5\">\r\n     <g id=\"line2d_9\">\r\n      <path clip-path=\"url(#p70d81fc41e)\" d=\"M 231.370025 143.1 \r\nL 231.370025 7.2 \r\n\" style=\"fill:none;stroke:#b0b0b0;stroke-linecap:square;stroke-width:0.8;\"/>\r\n     </g>\r\n     <g id=\"line2d_10\">\r\n      <g>\r\n       <use style=\"stroke:#000000;stroke-width:0.8;\" x=\"231.370025\" xlink:href=\"#m31d0624076\" y=\"143.1\"/>\r\n      </g>\r\n     </g>\r\n     <g id=\"text_5\">\r\n      <!-- 20000 -->\r\n      <g transform=\"translate(215.463775 157.698438)scale(0.1 -0.1)\">\r\n       <defs>\r\n        <path d=\"M 19.1875 8.296875 \r\nL 53.609375 8.296875 \r\nL 53.609375 0 \r\nL 7.328125 0 \r\nL 7.328125 8.296875 \r\nQ 12.9375 14.109375 22.625 23.890625 \r\nQ 32.328125 33.6875 34.8125 36.53125 \r\nQ 39.546875 41.84375 41.421875 45.53125 \r\nQ 43.3125 49.21875 43.3125 52.78125 \r\nQ 43.3125 58.59375 39.234375 62.25 \r\nQ 35.15625 65.921875 28.609375 65.921875 \r\nQ 23.96875 65.921875 18.8125 64.3125 \r\nQ 13.671875 62.703125 7.8125 59.421875 \r\nL 7.8125 69.390625 \r\nQ 13.765625 71.78125 18.9375 73 \r\nQ 24.125 74.21875 28.421875 74.21875 \r\nQ 39.75 74.21875 46.484375 68.546875 \r\nQ 53.21875 62.890625 53.21875 53.421875 \r\nQ 53.21875 48.921875 51.53125 44.890625 \r\nQ 49.859375 40.875 45.40625 35.40625 \r\nQ 44.1875 33.984375 37.640625 27.21875 \r\nQ 31.109375 20.453125 19.1875 8.296875 \r\nz\r\n\" id=\"DejaVuSans-50\"/>\r\n       </defs>\r\n       <use xlink:href=\"#DejaVuSans-50\"/>\r\n       <use x=\"63.623047\" xlink:href=\"#DejaVuSans-48\"/>\r\n       <use x=\"127.246094\" xlink:href=\"#DejaVuSans-48\"/>\r\n       <use x=\"190.869141\" xlink:href=\"#DejaVuSans-48\"/>\r\n       <use x=\"254.492188\" xlink:href=\"#DejaVuSans-48\"/>\r\n      </g>\r\n     </g>\r\n    </g>\r\n    <g id=\"text_6\">\r\n     <!-- epoch -->\r\n     <g transform=\"translate(132.565625 171.376563)scale(0.1 -0.1)\">\r\n      <defs>\r\n       <path d=\"M 56.203125 29.59375 \r\nL 56.203125 25.203125 \r\nL 14.890625 25.203125 \r\nQ 15.484375 15.921875 20.484375 11.0625 \r\nQ 25.484375 6.203125 34.421875 6.203125 \r\nQ 39.59375 6.203125 44.453125 7.46875 \r\nQ 49.3125 8.734375 54.109375 11.28125 \r\nL 54.109375 2.78125 \r\nQ 49.265625 0.734375 44.1875 -0.34375 \r\nQ 39.109375 -1.421875 33.890625 -1.421875 \r\nQ 20.796875 -1.421875 13.15625 6.1875 \r\nQ 5.515625 13.8125 5.515625 26.8125 \r\nQ 5.515625 40.234375 12.765625 48.109375 \r\nQ 20.015625 56 32.328125 56 \r\nQ 43.359375 56 49.78125 48.890625 \r\nQ 56.203125 41.796875 56.203125 29.59375 \r\nz\r\nM 47.21875 32.234375 \r\nQ 47.125 39.59375 43.09375 43.984375 \r\nQ 39.0625 48.390625 32.421875 48.390625 \r\nQ 24.90625 48.390625 20.390625 44.140625 \r\nQ 15.875 39.890625 15.1875 32.171875 \r\nz\r\n\" id=\"DejaVuSans-101\"/>\r\n       <path d=\"M 18.109375 8.203125 \r\nL 18.109375 -20.796875 \r\nL 9.078125 -20.796875 \r\nL 9.078125 54.6875 \r\nL 18.109375 54.6875 \r\nL 18.109375 46.390625 \r\nQ 20.953125 51.265625 25.265625 53.625 \r\nQ 29.59375 56 35.59375 56 \r\nQ 45.5625 56 51.78125 48.09375 \r\nQ 58.015625 40.1875 58.015625 27.296875 \r\nQ 58.015625 14.40625 51.78125 6.484375 \r\nQ 45.5625 -1.421875 35.59375 -1.421875 \r\nQ 29.59375 -1.421875 25.265625 0.953125 \r\nQ 20.953125 3.328125 18.109375 8.203125 \r\nz\r\nM 48.6875 27.296875 \r\nQ 48.6875 37.203125 44.609375 42.84375 \r\nQ 40.53125 48.484375 33.40625 48.484375 \r\nQ 26.265625 48.484375 22.1875 42.84375 \r\nQ 18.109375 37.203125 18.109375 27.296875 \r\nQ 18.109375 17.390625 22.1875 11.75 \r\nQ 26.265625 6.109375 33.40625 6.109375 \r\nQ 40.53125 6.109375 44.609375 11.75 \r\nQ 48.6875 17.390625 48.6875 27.296875 \r\nz\r\n\" id=\"DejaVuSans-112\"/>\r\n       <path d=\"M 30.609375 48.390625 \r\nQ 23.390625 48.390625 19.1875 42.75 \r\nQ 14.984375 37.109375 14.984375 27.296875 \r\nQ 14.984375 17.484375 19.15625 11.84375 \r\nQ 23.34375 6.203125 30.609375 6.203125 \r\nQ 37.796875 6.203125 41.984375 11.859375 \r\nQ 46.1875 17.53125 46.1875 27.296875 \r\nQ 46.1875 37.015625 41.984375 42.703125 \r\nQ 37.796875 48.390625 30.609375 48.390625 \r\nz\r\nM 30.609375 56 \r\nQ 42.328125 56 49.015625 48.375 \r\nQ 55.71875 40.765625 55.71875 27.296875 \r\nQ 55.71875 13.875 49.015625 6.21875 \r\nQ 42.328125 -1.421875 30.609375 -1.421875 \r\nQ 18.84375 -1.421875 12.171875 6.21875 \r\nQ 5.515625 13.875 5.515625 27.296875 \r\nQ 5.515625 40.765625 12.171875 48.375 \r\nQ 18.84375 56 30.609375 56 \r\nz\r\n\" id=\"DejaVuSans-111\"/>\r\n       <path d=\"M 48.78125 52.59375 \r\nL 48.78125 44.1875 \r\nQ 44.96875 46.296875 41.140625 47.34375 \r\nQ 37.3125 48.390625 33.40625 48.390625 \r\nQ 24.65625 48.390625 19.8125 42.84375 \r\nQ 14.984375 37.3125 14.984375 27.296875 \r\nQ 14.984375 17.28125 19.8125 11.734375 \r\nQ 24.65625 6.203125 33.40625 6.203125 \r\nQ 37.3125 6.203125 41.140625 7.25 \r\nQ 44.96875 8.296875 48.78125 10.40625 \r\nL 48.78125 2.09375 \r\nQ 45.015625 0.34375 40.984375 -0.53125 \r\nQ 36.96875 -1.421875 32.421875 -1.421875 \r\nQ 20.0625 -1.421875 12.78125 6.34375 \r\nQ 5.515625 14.109375 5.515625 27.296875 \r\nQ 5.515625 40.671875 12.859375 48.328125 \r\nQ 20.21875 56 33.015625 56 \r\nQ 37.15625 56 41.109375 55.140625 \r\nQ 45.0625 54.296875 48.78125 52.59375 \r\nz\r\n\" id=\"DejaVuSans-99\"/>\r\n       <path d=\"M 54.890625 33.015625 \r\nL 54.890625 0 \r\nL 45.90625 0 \r\nL 45.90625 32.71875 \r\nQ 45.90625 40.484375 42.875 44.328125 \r\nQ 39.84375 48.1875 33.796875 48.1875 \r\nQ 26.515625 48.1875 22.3125 43.546875 \r\nQ 18.109375 38.921875 18.109375 30.90625 \r\nL 18.109375 0 \r\nL 9.078125 0 \r\nL 9.078125 75.984375 \r\nL 18.109375 75.984375 \r\nL 18.109375 46.1875 \r\nQ 21.34375 51.125 25.703125 53.5625 \r\nQ 30.078125 56 35.796875 56 \r\nQ 45.21875 56 50.046875 50.171875 \r\nQ 54.890625 44.34375 54.890625 33.015625 \r\nz\r\n\" id=\"DejaVuSans-104\"/>\r\n      </defs>\r\n      <use xlink:href=\"#DejaVuSans-101\"/>\r\n      <use x=\"61.523438\" xlink:href=\"#DejaVuSans-112\"/>\r\n      <use x=\"125\" xlink:href=\"#DejaVuSans-111\"/>\r\n      <use x=\"186.181641\" xlink:href=\"#DejaVuSans-99\"/>\r\n      <use x=\"241.162109\" xlink:href=\"#DejaVuSans-104\"/>\r\n     </g>\r\n    </g>\r\n   </g>\r\n   <g id=\"matplotlib.axis_2\">\r\n    <g id=\"ytick_1\">\r\n     <g id=\"line2d_11\">\r\n      <path clip-path=\"url(#p70d81fc41e)\" d=\"M 50.14375 117.40462 \r\nL 245.44375 117.40462 \r\n\" style=\"fill:none;stroke:#b0b0b0;stroke-linecap:square;stroke-width:0.8;\"/>\r\n     </g>\r\n     <g id=\"line2d_12\">\r\n      <defs>\r\n       <path d=\"M 0 0 \r\nL -3.5 0 \r\n\" id=\"m2095cb171d\" style=\"stroke:#000000;stroke-width:0.8;\"/>\r\n      </defs>\r\n      <g>\r\n       <use style=\"stroke:#000000;stroke-width:0.8;\" x=\"50.14375\" xlink:href=\"#m2095cb171d\" y=\"117.40462\"/>\r\n      </g>\r\n     </g>\r\n     <g id=\"text_7\">\r\n      <!-- 0.18 -->\r\n      <g transform=\"translate(20.878125 121.203839)scale(0.1 -0.1)\">\r\n       <defs>\r\n        <path d=\"M 10.6875 12.40625 \r\nL 21 12.40625 \r\nL 21 0 \r\nL 10.6875 0 \r\nz\r\n\" id=\"DejaVuSans-46\"/>\r\n        <path d=\"M 31.78125 34.625 \r\nQ 24.75 34.625 20.71875 30.859375 \r\nQ 16.703125 27.09375 16.703125 20.515625 \r\nQ 16.703125 13.921875 20.71875 10.15625 \r\nQ 24.75 6.390625 31.78125 6.390625 \r\nQ 38.8125 6.390625 42.859375 10.171875 \r\nQ 46.921875 13.96875 46.921875 20.515625 \r\nQ 46.921875 27.09375 42.890625 30.859375 \r\nQ 38.875 34.625 31.78125 34.625 \r\nz\r\nM 21.921875 38.8125 \r\nQ 15.578125 40.375 12.03125 44.71875 \r\nQ 8.5 49.078125 8.5 55.328125 \r\nQ 8.5 64.0625 14.71875 69.140625 \r\nQ 20.953125 74.21875 31.78125 74.21875 \r\nQ 42.671875 74.21875 48.875 69.140625 \r\nQ 55.078125 64.0625 55.078125 55.328125 \r\nQ 55.078125 49.078125 51.53125 44.71875 \r\nQ 48 40.375 41.703125 38.8125 \r\nQ 48.828125 37.15625 52.796875 32.3125 \r\nQ 56.78125 27.484375 56.78125 20.515625 \r\nQ 56.78125 9.90625 50.3125 4.234375 \r\nQ 43.84375 -1.421875 31.78125 -1.421875 \r\nQ 19.734375 -1.421875 13.25 4.234375 \r\nQ 6.78125 9.90625 6.78125 20.515625 \r\nQ 6.78125 27.484375 10.78125 32.3125 \r\nQ 14.796875 37.15625 21.921875 38.8125 \r\nz\r\nM 18.3125 54.390625 \r\nQ 18.3125 48.734375 21.84375 45.5625 \r\nQ 25.390625 42.390625 31.78125 42.390625 \r\nQ 38.140625 42.390625 41.71875 45.5625 \r\nQ 45.3125 48.734375 45.3125 54.390625 \r\nQ 45.3125 60.0625 41.71875 63.234375 \r\nQ 38.140625 66.40625 31.78125 66.40625 \r\nQ 25.390625 66.40625 21.84375 63.234375 \r\nQ 18.3125 60.0625 18.3125 54.390625 \r\nz\r\n\" id=\"DejaVuSans-56\"/>\r\n       </defs>\r\n       <use xlink:href=\"#DejaVuSans-48\"/>\r\n       <use x=\"63.623047\" xlink:href=\"#DejaVuSans-46\"/>\r\n       <use x=\"95.410156\" xlink:href=\"#DejaVuSans-49\"/>\r\n       <use x=\"159.033203\" xlink:href=\"#DejaVuSans-56\"/>\r\n      </g>\r\n     </g>\r\n    </g>\r\n    <g id=\"ytick_2\">\r\n     <g id=\"line2d_13\">\r\n      <path clip-path=\"url(#p70d81fc41e)\" d=\"M 50.14375 91.306194 \r\nL 245.44375 91.306194 \r\n\" style=\"fill:none;stroke:#b0b0b0;stroke-linecap:square;stroke-width:0.8;\"/>\r\n     </g>\r\n     <g id=\"line2d_14\">\r\n      <g>\r\n       <use style=\"stroke:#000000;stroke-width:0.8;\" x=\"50.14375\" xlink:href=\"#m2095cb171d\" y=\"91.306194\"/>\r\n      </g>\r\n     </g>\r\n     <g id=\"text_8\">\r\n      <!-- 0.20 -->\r\n      <g transform=\"translate(20.878125 95.105412)scale(0.1 -0.1)\">\r\n       <use xlink:href=\"#DejaVuSans-48\"/>\r\n       <use x=\"63.623047\" xlink:href=\"#DejaVuSans-46\"/>\r\n       <use x=\"95.410156\" xlink:href=\"#DejaVuSans-50\"/>\r\n       <use x=\"159.033203\" xlink:href=\"#DejaVuSans-48\"/>\r\n      </g>\r\n     </g>\r\n    </g>\r\n    <g id=\"ytick_3\">\r\n     <g id=\"line2d_15\">\r\n      <path clip-path=\"url(#p70d81fc41e)\" d=\"M 50.14375 65.207767 \r\nL 245.44375 65.207767 \r\n\" style=\"fill:none;stroke:#b0b0b0;stroke-linecap:square;stroke-width:0.8;\"/>\r\n     </g>\r\n     <g id=\"line2d_16\">\r\n      <g>\r\n       <use style=\"stroke:#000000;stroke-width:0.8;\" x=\"50.14375\" xlink:href=\"#m2095cb171d\" y=\"65.207767\"/>\r\n      </g>\r\n     </g>\r\n     <g id=\"text_9\">\r\n      <!-- 0.22 -->\r\n      <g transform=\"translate(20.878125 69.006986)scale(0.1 -0.1)\">\r\n       <use xlink:href=\"#DejaVuSans-48\"/>\r\n       <use x=\"63.623047\" xlink:href=\"#DejaVuSans-46\"/>\r\n       <use x=\"95.410156\" xlink:href=\"#DejaVuSans-50\"/>\r\n       <use x=\"159.033203\" xlink:href=\"#DejaVuSans-50\"/>\r\n      </g>\r\n     </g>\r\n    </g>\r\n    <g id=\"ytick_4\">\r\n     <g id=\"line2d_17\">\r\n      <path clip-path=\"url(#p70d81fc41e)\" d=\"M 50.14375 39.109341 \r\nL 245.44375 39.109341 \r\n\" style=\"fill:none;stroke:#b0b0b0;stroke-linecap:square;stroke-width:0.8;\"/>\r\n     </g>\r\n     <g id=\"line2d_18\">\r\n      <g>\r\n       <use style=\"stroke:#000000;stroke-width:0.8;\" x=\"50.14375\" xlink:href=\"#m2095cb171d\" y=\"39.109341\"/>\r\n      </g>\r\n     </g>\r\n     <g id=\"text_10\">\r\n      <!-- 0.24 -->\r\n      <g transform=\"translate(20.878125 42.908559)scale(0.1 -0.1)\">\r\n       <defs>\r\n        <path d=\"M 37.796875 64.3125 \r\nL 12.890625 25.390625 \r\nL 37.796875 25.390625 \r\nz\r\nM 35.203125 72.90625 \r\nL 47.609375 72.90625 \r\nL 47.609375 25.390625 \r\nL 58.015625 25.390625 \r\nL 58.015625 17.1875 \r\nL 47.609375 17.1875 \r\nL 47.609375 0 \r\nL 37.796875 0 \r\nL 37.796875 17.1875 \r\nL 4.890625 17.1875 \r\nL 4.890625 26.703125 \r\nz\r\n\" id=\"DejaVuSans-52\"/>\r\n       </defs>\r\n       <use xlink:href=\"#DejaVuSans-48\"/>\r\n       <use x=\"63.623047\" xlink:href=\"#DejaVuSans-46\"/>\r\n       <use x=\"95.410156\" xlink:href=\"#DejaVuSans-50\"/>\r\n       <use x=\"159.033203\" xlink:href=\"#DejaVuSans-52\"/>\r\n      </g>\r\n     </g>\r\n    </g>\r\n    <g id=\"ytick_5\">\r\n     <g id=\"line2d_19\">\r\n      <path clip-path=\"url(#p70d81fc41e)\" d=\"M 50.14375 13.010914 \r\nL 245.44375 13.010914 \r\n\" style=\"fill:none;stroke:#b0b0b0;stroke-linecap:square;stroke-width:0.8;\"/>\r\n     </g>\r\n     <g id=\"line2d_20\">\r\n      <g>\r\n       <use style=\"stroke:#000000;stroke-width:0.8;\" x=\"50.14375\" xlink:href=\"#m2095cb171d\" y=\"13.010914\"/>\r\n      </g>\r\n     </g>\r\n     <g id=\"text_11\">\r\n      <!-- 0.26 -->\r\n      <g transform=\"translate(20.878125 16.810133)scale(0.1 -0.1)\">\r\n       <defs>\r\n        <path d=\"M 33.015625 40.375 \r\nQ 26.375 40.375 22.484375 35.828125 \r\nQ 18.609375 31.296875 18.609375 23.390625 \r\nQ 18.609375 15.53125 22.484375 10.953125 \r\nQ 26.375 6.390625 33.015625 6.390625 \r\nQ 39.65625 6.390625 43.53125 10.953125 \r\nQ 47.40625 15.53125 47.40625 23.390625 \r\nQ 47.40625 31.296875 43.53125 35.828125 \r\nQ 39.65625 40.375 33.015625 40.375 \r\nz\r\nM 52.59375 71.296875 \r\nL 52.59375 62.3125 \r\nQ 48.875 64.0625 45.09375 64.984375 \r\nQ 41.3125 65.921875 37.59375 65.921875 \r\nQ 27.828125 65.921875 22.671875 59.328125 \r\nQ 17.53125 52.734375 16.796875 39.40625 \r\nQ 19.671875 43.65625 24.015625 45.921875 \r\nQ 28.375 48.1875 33.59375 48.1875 \r\nQ 44.578125 48.1875 50.953125 41.515625 \r\nQ 57.328125 34.859375 57.328125 23.390625 \r\nQ 57.328125 12.15625 50.6875 5.359375 \r\nQ 44.046875 -1.421875 33.015625 -1.421875 \r\nQ 20.359375 -1.421875 13.671875 8.265625 \r\nQ 6.984375 17.96875 6.984375 36.375 \r\nQ 6.984375 53.65625 15.1875 63.9375 \r\nQ 23.390625 74.21875 37.203125 74.21875 \r\nQ 40.921875 74.21875 44.703125 73.484375 \r\nQ 48.484375 72.75 52.59375 71.296875 \r\nz\r\n\" id=\"DejaVuSans-54\"/>\r\n       </defs>\r\n       <use xlink:href=\"#DejaVuSans-48\"/>\r\n       <use x=\"63.623047\" xlink:href=\"#DejaVuSans-46\"/>\r\n       <use x=\"95.410156\" xlink:href=\"#DejaVuSans-50\"/>\r\n       <use x=\"159.033203\" xlink:href=\"#DejaVuSans-54\"/>\r\n      </g>\r\n     </g>\r\n    </g>\r\n    <g id=\"text_12\">\r\n     <!-- loss -->\r\n     <g transform=\"translate(14.798437 84.807812)rotate(-90)scale(0.1 -0.1)\">\r\n      <defs>\r\n       <path d=\"M 9.421875 75.984375 \r\nL 18.40625 75.984375 \r\nL 18.40625 0 \r\nL 9.421875 0 \r\nz\r\n\" id=\"DejaVuSans-108\"/>\r\n       <path d=\"M 44.28125 53.078125 \r\nL 44.28125 44.578125 \r\nQ 40.484375 46.53125 36.375 47.5 \r\nQ 32.28125 48.484375 27.875 48.484375 \r\nQ 21.1875 48.484375 17.84375 46.4375 \r\nQ 14.5 44.390625 14.5 40.28125 \r\nQ 14.5 37.15625 16.890625 35.375 \r\nQ 19.28125 33.59375 26.515625 31.984375 \r\nL 29.59375 31.296875 \r\nQ 39.15625 29.25 43.1875 25.515625 \r\nQ 47.21875 21.78125 47.21875 15.09375 \r\nQ 47.21875 7.46875 41.1875 3.015625 \r\nQ 35.15625 -1.421875 24.609375 -1.421875 \r\nQ 20.21875 -1.421875 15.453125 -0.5625 \r\nQ 10.6875 0.296875 5.421875 2 \r\nL 5.421875 11.28125 \r\nQ 10.40625 8.6875 15.234375 7.390625 \r\nQ 20.0625 6.109375 24.8125 6.109375 \r\nQ 31.15625 6.109375 34.5625 8.28125 \r\nQ 37.984375 10.453125 37.984375 14.40625 \r\nQ 37.984375 18.0625 35.515625 20.015625 \r\nQ 33.0625 21.96875 24.703125 23.78125 \r\nL 21.578125 24.515625 \r\nQ 13.234375 26.265625 9.515625 29.90625 \r\nQ 5.8125 33.546875 5.8125 39.890625 \r\nQ 5.8125 47.609375 11.28125 51.796875 \r\nQ 16.75 56 26.8125 56 \r\nQ 31.78125 56 36.171875 55.265625 \r\nQ 40.578125 54.546875 44.28125 53.078125 \r\nz\r\n\" id=\"DejaVuSans-115\"/>\r\n      </defs>\r\n      <use xlink:href=\"#DejaVuSans-108\"/>\r\n      <use x=\"27.783203\" xlink:href=\"#DejaVuSans-111\"/>\r\n      <use x=\"88.964844\" xlink:href=\"#DejaVuSans-115\"/>\r\n      <use x=\"141.064453\" xlink:href=\"#DejaVuSans-115\"/>\r\n     </g>\r\n    </g>\r\n   </g>\r\n   <g id=\"line2d_21\">\r\n    <path clip-path=\"url(#p70d81fc41e)\" d=\"M 59.021023 13.377273 \r\nL 59.887098 13.4788 \r\nL 60.753174 14.428372 \r\nL 62.485324 17.247634 \r\nL 63.3514 18.878925 \r\nL 66.815701 24.293289 \r\nL 67.681777 48.606011 \r\nL 68.547852 47.96529 \r\nL 70.280003 47.98911 \r\nL 73.744304 49.197674 \r\nL 74.61038 49.468463 \r\nL 75.476455 49.931951 \r\nL 76.34253 63.009009 \r\nL 77.208606 63.486542 \r\nL 78.074681 63.61341 \r\nL 79.806832 63.346015 \r\nL 83.271134 63.515297 \r\nL 84.137209 63.765777 \r\nL 85.003284 63.894292 \r\nL 85.86936 75.682649 \r\nL 86.735435 75.527612 \r\nL 87.601511 75.044001 \r\nL 88.467586 74.329732 \r\nL 90.199737 73.736157 \r\nL 91.931887 73.605144 \r\nL 92.797963 73.741138 \r\nL 93.664038 73.708934 \r\nL 94.530114 83.727445 \r\nL 95.396189 83.229528 \r\nL 96.262264 82.39661 \r\nL 98.860491 81.919643 \r\nL 99.726566 81.866653 \r\nL 101.458717 81.555886 \r\nL 102.324792 81.554793 \r\nL 103.190868 89.927733 \r\nL 104.056943 89.680599 \r\nL 104.923018 89.271818 \r\nL 107.521244 88.561597 \r\nL 111.851621 87.944275 \r\nL 112.717697 96.095515 \r\nL 113.583772 96.205732 \r\nL 115.315923 95.096216 \r\nL 116.181998 94.848327 \r\nL 117.048074 94.472274 \r\nL 117.914149 94.348461 \r\nL 118.780225 93.956183 \r\nL 119.6463 93.714004 \r\nL 120.512375 93.614721 \r\nL 121.378451 100.487383 \r\nL 122.244526 100.33803 \r\nL 123.110601 99.987002 \r\nL 124.842752 99.563235 \r\nL 126.574903 98.836827 \r\nL 129.173129 98.433432 \r\nL 130.039205 107.736545 \r\nL 130.90528 105.474557 \r\nL 131.771355 104.729537 \r\nL 132.637431 104.581603 \r\nL 133.503506 104.132763 \r\nL 136.967808 102.907011 \r\nL 138.699958 102.741796 \r\nL 139.566034 109.563015 \r\nL 140.432109 109.04459 \r\nL 141.298185 108.783278 \r\nL 142.16426 108.295311 \r\nL 147.360712 106.772447 \r\nL 148.226788 113.639149 \r\nL 149.092863 112.605528 \r\nL 149.958938 112.312359 \r\nL 150.825014 111.847611 \r\nL 151.691089 111.606014 \r\nL 152.557165 111.163565 \r\nL 153.42324 110.867054 \r\nL 154.289315 110.740513 \r\nL 155.155391 110.458615 \r\nL 156.021466 110.359728 \r\nL 156.887542 119.765892 \r\nL 157.753617 117.047523 \r\nL 158.619692 116.338969 \r\nL 160.351843 115.288334 \r\nL 161.217919 114.961027 \r\nL 162.083994 114.832733 \r\nL 163.816145 114.074566 \r\nL 164.68222 113.711396 \r\nL 165.548295 113.490664 \r\nL 166.414371 120.189648 \r\nL 167.280446 120.142617 \r\nL 168.146522 119.337108 \r\nL 169.878672 118.195416 \r\nL 174.209049 116.534331 \r\nL 175.075125 123.156452 \r\nL 175.9412 121.618965 \r\nL 176.807275 121.586013 \r\nL 177.673351 121.197629 \r\nL 178.539426 120.6756 \r\nL 179.405502 120.430193 \r\nL 180.271577 119.999527 \r\nL 182.869803 119.475128 \r\nL 183.735879 126.881138 \r\nL 184.601954 125.980862 \r\nL 185.468029 124.853052 \r\nL 187.20018 123.350322 \r\nL 188.066256 123.295732 \r\nL 190.664482 122.397588 \r\nL 192.396632 121.874419 \r\nL 193.262708 128.063991 \r\nL 194.128783 127.556943 \r\nL 194.994859 126.791061 \r\nL 197.593085 125.353292 \r\nL 198.45916 125.241615 \r\nL 201.057386 124.424579 \r\nL 201.923462 130.341592 \r\nL 202.789537 129.916461 \r\nL 203.655613 129.111032 \r\nL 204.521688 128.840163 \r\nL 206.253839 127.840501 \r\nL 209.71814 126.800753 \r\nL 210.584216 136.922727 \r\nL 211.450291 133.495218 \r\nL 212.316366 132.26297 \r\nL 213.182442 131.817835 \r\nL 214.048517 131.140369 \r\nL 214.914593 130.259187 \r\nL 217.512819 129.237347 \r\nL 218.378894 129.080918 \r\nL 219.24497 128.76368 \r\nL 220.111045 135.819127 \r\nL 222.709271 133.124054 \r\nL 223.575346 132.626189 \r\nL 224.441422 131.98072 \r\nL 227.905723 131.011784 \r\nL 228.771799 136.574436 \r\nL 229.637874 136.080421 \r\nL 231.370025 134.495799 \r\nL 232.2361 134.158345 \r\nL 233.968251 133.666658 \r\nL 235.700402 133.09903 \r\nL 236.566477 132.962654 \r\nL 236.566477 132.962654 \r\n\" style=\"fill:none;stroke:#1f77b4;stroke-linecap:square;stroke-width:1.5;\"/>\r\n   </g>\r\n   <g id=\"patch_3\">\r\n    <path d=\"M 50.14375 143.1 \r\nL 50.14375 7.2 \r\n\" style=\"fill:none;stroke:#000000;stroke-linecap:square;stroke-linejoin:miter;stroke-width:0.8;\"/>\r\n   </g>\r\n   <g id=\"patch_4\">\r\n    <path d=\"M 245.44375 143.1 \r\nL 245.44375 7.2 \r\n\" style=\"fill:none;stroke:#000000;stroke-linecap:square;stroke-linejoin:miter;stroke-width:0.8;\"/>\r\n   </g>\r\n   <g id=\"patch_5\">\r\n    <path d=\"M 50.14375 143.1 \r\nL 245.44375 143.1 \r\n\" style=\"fill:none;stroke:#000000;stroke-linecap:square;stroke-linejoin:miter;stroke-width:0.8;\"/>\r\n   </g>\r\n   <g id=\"patch_6\">\r\n    <path d=\"M 50.14375 7.2 \r\nL 245.44375 7.2 \r\n\" style=\"fill:none;stroke:#000000;stroke-linecap:square;stroke-linejoin:miter;stroke-width:0.8;\"/>\r\n   </g>\r\n  </g>\r\n </g>\r\n <defs>\r\n  <clipPath id=\"p70d81fc41e\">\r\n   <rect height=\"135.9\" width=\"195.3\" x=\"50.14375\" y=\"7.2\"/>\r\n  </clipPath>\r\n </defs>\r\n</svg>\r\n"
     },
     "metadata": {
      "needs_background": "light"
     }
    }
   ],
   "source": [
    "BERTModel.train_bert(net, train_iter, lr, num_epochs, batch_size, vocab, device)"
   ]
  },
  {
   "cell_type": "code",
   "execution_count": 8,
   "metadata": {
    "tags": []
   },
   "outputs": [
    {
     "output_type": "stream",
     "name": "stdout",
     "text": [
      "src ['你', '好']\n",
      "src_tokens= [5, 14, 0]\n",
      "tp_src_tokens [5, 14, 0, 0, 0, 0, 0, 0, 0, 0, 0, 0, 0, 0, 0, 0]\n",
      "enc_outputs tensor([[[-0.0161,  0.0149,  0.0141,  ...,  0.0179,  0.0021,  0.0259],\n",
      "         [ 0.1923,  0.0501,  0.4003,  ...,  0.1770, -0.0722,  0.0479],\n",
      "         [-0.0265,  0.2267, -0.0475,  ...,  0.1822,  0.0257, -0.3696],\n",
      "         ...,\n",
      "         [ 0.0080,  0.1606,  0.1830,  ...,  0.1686,  0.1921,  0.1738],\n",
      "         [-0.0066,  0.0251,  0.0453,  ...,  0.0242,  0.0152,  0.0240],\n",
      "         [-0.1266,  0.3164,  0.2175,  ...,  0.1031,  0.1469,  0.1589]]],\n",
      "       device='cuda:0', grad_fn=<AddBackward0>)\n",
      "dec_state [tensor([[[-0.0161,  0.0149,  0.0141,  ...,  0.0179,  0.0021,  0.0259],\n",
      "         [ 0.1923,  0.0501,  0.4003,  ...,  0.1770, -0.0722,  0.0479],\n",
      "         [-0.0265,  0.2267, -0.0475,  ...,  0.1822,  0.0257, -0.3696],\n",
      "         ...,\n",
      "         [ 0.0080,  0.1606,  0.1830,  ...,  0.1686,  0.1921,  0.1738],\n",
      "         [-0.0066,  0.0251,  0.0453,  ...,  0.0242,  0.0152,  0.0240],\n",
      "         [-0.1266,  0.3164,  0.2175,  ...,  0.1031,  0.1469,  0.1589]]],\n",
      "       device='cuda:0', grad_fn=<AddBackward0>), tensor([[False, False, False,  True,  True,  True,  True,  True,  True,  True,\n",
      "          True,  True,  True,  True,  True,  True]], device='cuda:0')]\n",
      "Y_valid_lens tensor([1], device='cuda:0')\n",
      "Y tensor([[[  5.1374, -16.6381, -16.6026,   2.8465, -16.6358,   5.1205,   5.5762,\n",
      "            2.5832,   1.3150,   4.6348]]], device='cuda:0',\n",
      "       grad_fn=<SliceBackward>) tensor([[6]], device='cuda:0') torch.return_types.max(\n",
      "values=tensor([[5.5762]], device='cuda:0', grad_fn=<MaxBackward0>),\n",
      "indices=tensor([[6]], device='cuda:0'))\n",
      "dec_X tensor([[0, 6]], device='cuda:0')\n",
      "Y_valid_lens tensor([2], device='cuda:0')\n",
      "Y tensor([[[  5.1374, -16.6381, -16.6026,   2.8465, -16.6358,   5.1205,   5.5762,\n",
      "            2.5832,   1.3150,   4.6348],\n",
      "         [  3.9668, -19.7419, -19.6488,   4.0575, -19.6541,   3.4668,   3.9149,\n",
      "            6.4417,   2.0986,   7.5443]]], device='cuda:0',\n",
      "       grad_fn=<SliceBackward>) tensor([[6, 9]], device='cuda:0') torch.return_types.max(\n",
      "values=tensor([[5.5762, 7.5443]], device='cuda:0', grad_fn=<MaxBackward0>),\n",
      "indices=tensor([[6, 9]], device='cuda:0'))\n",
      "dec_X tensor([[0, 6, 9]], device='cuda:0')\n",
      "Y_valid_lens tensor([3], device='cuda:0')\n",
      "Y tensor([[[  5.1374, -16.6381, -16.6026,   2.8465, -16.6358,   5.1205,   5.5762,\n",
      "            2.5832,   1.3150,   4.6348],\n",
      "         [  3.9668, -19.7419, -19.6488,   4.0575, -19.6541,   3.4668,   3.9149,\n",
      "            6.4417,   2.0986,   7.5443],\n",
      "         [  6.3444, -18.6549, -18.5400,   5.2068, -18.6125,   6.8298,   5.8270,\n",
      "            3.9678,   1.0862,   3.1563]]], device='cuda:0',\n",
      "       grad_fn=<SliceBackward>) tensor([[6, 9, 5]], device='cuda:0') torch.return_types.max(\n",
      "values=tensor([[5.5762, 7.5443, 6.8298]], device='cuda:0', grad_fn=<MaxBackward0>),\n",
      "indices=tensor([[6, 9, 5]], device='cuda:0'))\n",
      "dec_X tensor([[0, 6, 9, 5]], device='cuda:0')\n",
      "Y_valid_lens tensor([4], device='cuda:0')\n",
      "Y tensor([[[  5.1374, -16.6381, -16.6026,   2.8465, -16.6358,   5.1205,   5.5762,\n",
      "            2.5832,   1.3150,   4.6348],\n",
      "         [  3.9668, -19.7419, -19.6488,   4.0575, -19.6541,   3.4668,   3.9149,\n",
      "            6.4417,   2.0986,   7.5443],\n",
      "         [  6.3444, -18.6549, -18.5400,   5.2068, -18.6125,   6.8298,   5.8270,\n",
      "            3.9678,   1.0862,   3.1563],\n",
      "         [  4.1766, -21.7987, -21.6318,   6.6148, -21.7511,   3.0776,   3.3050,\n",
      "            8.6511,   3.1823,   5.7485]]], device='cuda:0',\n",
      "       grad_fn=<SliceBackward>) tensor([[6, 9, 5, 7]], device='cuda:0') torch.return_types.max(\n",
      "values=tensor([[5.5762, 7.5443, 6.8298, 8.6511]], device='cuda:0',\n",
      "       grad_fn=<MaxBackward0>),\n",
      "indices=tensor([[6, 9, 5, 7]], device='cuda:0'))\n",
      "dec_X tensor([[0, 6, 9, 5, 7]], device='cuda:0')\n",
      "Y_valid_lens tensor([5], device='cuda:0')\n",
      "Y tensor([[[  5.1374, -16.6381, -16.6026,   2.8465, -16.6358,   5.1205,   5.5762,\n",
      "            2.5832,   1.3150,   4.6348],\n",
      "         [  3.9668, -19.7419, -19.6488,   4.0575, -19.6541,   3.4668,   3.9149,\n",
      "            6.4417,   2.0986,   7.5443],\n",
      "         [  6.3444, -18.6549, -18.5400,   5.2068, -18.6125,   6.8298,   5.8270,\n",
      "            3.9678,   1.0862,   3.1563],\n",
      "         [  4.1766, -21.7987, -21.6318,   6.6148, -21.7511,   3.0776,   3.3050,\n",
      "            8.6511,   3.1823,   5.7485],\n",
      "         [  5.3110, -18.8204, -18.7239,   6.9694, -18.7702,   3.7055,   4.9905,\n",
      "            1.9347,   0.5087,   4.3816]]], device='cuda:0',\n",
      "       grad_fn=<SliceBackward>) tensor([[   6,    9,    5,    7, 2774]], device='cuda:0') torch.return_types.max(\n",
      "values=tensor([[5.5762, 7.5443, 6.8298, 8.6511, 7.1149]], device='cuda:0',\n",
      "       grad_fn=<MaxBackward0>),\n",
      "indices=tensor([[   6,    9,    5,    7, 2774]], device='cuda:0'))\n",
      "dec_X tensor([[   0,    6,    9,    5,    7, 2774]], device='cuda:0')\n",
      "Y_valid_lens tensor([6], device='cuda:0')\n",
      "Y tensor([[[  5.1374, -16.6381, -16.6026,   2.8465, -16.6358,   5.1205,   5.5762,\n",
      "            2.5832,   1.3150,   4.6348],\n",
      "         [  3.9668, -19.7419, -19.6488,   4.0575, -19.6541,   3.4668,   3.9149,\n",
      "            6.4417,   2.0986,   7.5443],\n",
      "         [  6.3444, -18.6549, -18.5400,   5.2068, -18.6125,   6.8298,   5.8270,\n",
      "            3.9678,   1.0862,   3.1563],\n",
      "         [  4.1766, -21.7987, -21.6318,   6.6148, -21.7511,   3.0776,   3.3050,\n",
      "            8.6511,   3.1823,   5.7485],\n",
      "         [  5.3110, -18.8204, -18.7239,   6.9694, -18.7702,   3.7055,   4.9905,\n",
      "            1.9347,   0.5087,   4.3816],\n",
      "         [  6.5790, -24.6301, -24.2319,   9.8447, -24.5567,   6.6054,   6.7525,\n",
      "            7.1837,   5.6813,   5.9139]]], device='cuda:0',\n",
      "       grad_fn=<SliceBackward>) tensor([[   6,    9,    5,    7, 2774, 3009]], device='cuda:0') torch.return_types.max(\n",
      "values=tensor([[ 5.5762,  7.5443,  6.8298,  8.6511,  7.1149, 21.7218]],\n",
      "       device='cuda:0', grad_fn=<MaxBackward0>),\n",
      "indices=tensor([[   6,    9,    5,    7, 2774, 3009]], device='cuda:0'))\n",
      "dec_X tensor([[   0,    6,    9,    5,    7, 2774, 3009]], device='cuda:0')\n",
      "Y_valid_lens tensor([7], device='cuda:0')\n",
      "Y tensor([[[  5.1374, -16.6381, -16.6026,   2.8465, -16.6358,   5.1205,   5.5762,\n",
      "            2.5832,   1.3150,   4.6348],\n",
      "         [  3.9668, -19.7419, -19.6488,   4.0575, -19.6541,   3.4668,   3.9149,\n",
      "            6.4417,   2.0986,   7.5443],\n",
      "         [  6.3444, -18.6549, -18.5400,   5.2068, -18.6125,   6.8298,   5.8270,\n",
      "            3.9678,   1.0862,   3.1563],\n",
      "         [  4.1766, -21.7987, -21.6318,   6.6148, -21.7511,   3.0776,   3.3050,\n",
      "            8.6511,   3.1823,   5.7485],\n",
      "         [  5.3110, -18.8204, -18.7239,   6.9694, -18.7702,   3.7055,   4.9905,\n",
      "            1.9347,   0.5087,   4.3816],\n",
      "         [  6.5790, -24.6301, -24.2319,   9.8447, -24.5567,   6.6054,   6.7525,\n",
      "            7.1837,   5.6813,   5.9139],\n",
      "         [  4.8303, -25.9172, -25.7914,  10.5760, -25.9137,   5.4198,   6.1692,\n",
      "            6.0225,   4.5846,   5.9066]]], device='cuda:0',\n",
      "       grad_fn=<SliceBackward>) tensor([[   6,    9,    5,    7, 2774, 3009,   12]], device='cuda:0') torch.return_types.max(\n",
      "values=tensor([[ 5.5762,  7.5443,  6.8298,  8.6511,  7.1149, 21.7218, 10.6869]],\n",
      "       device='cuda:0', grad_fn=<MaxBackward0>),\n",
      "indices=tensor([[   6,    9,    5,    7, 2774, 3009,   12]], device='cuda:0'))\n",
      "dec_X tensor([[   0,    6,    9,    5,    7, 2774, 3009,   12]], device='cuda:0')\n",
      "Y_valid_lens tensor([8], device='cuda:0')\n",
      "Y tensor([[[  5.1374, -16.6381, -16.6026,   2.8465, -16.6358,   5.1205,   5.5762,\n",
      "            2.5832,   1.3150,   4.6348],\n",
      "         [  3.9668, -19.7420, -19.6488,   4.0575, -19.6541,   3.4668,   3.9149,\n",
      "            6.4417,   2.0986,   7.5443],\n",
      "         [  6.3444, -18.6549, -18.5400,   5.2068, -18.6125,   6.8298,   5.8270,\n",
      "            3.9678,   1.0862,   3.1563],\n",
      "         [  4.1766, -21.7987, -21.6318,   6.6148, -21.7511,   3.0776,   3.3050,\n",
      "            8.6511,   3.1823,   5.7485],\n",
      "         [  5.3110, -18.8204, -18.7239,   6.9694, -18.7702,   3.7055,   4.9905,\n",
      "            1.9347,   0.5087,   4.3816],\n",
      "         [  6.5790, -24.6301, -24.2319,   9.8447, -24.5567,   6.6054,   6.7525,\n",
      "            7.1836,   5.6813,   5.9139],\n",
      "         [  4.8303, -25.9172, -25.7914,  10.5760, -25.9136,   5.4198,   6.1692,\n",
      "            6.0225,   4.5846,   5.9066],\n",
      "         [  4.4967, -26.9329, -26.8247,  12.3962, -26.9851,   7.1434,   7.5687,\n",
      "            1.5934,   0.5782,   5.2314]]], device='cuda:0',\n",
      "       grad_fn=<SliceBackward>) tensor([[   6,    9,    5,    7, 2774, 3009,   12,    3]], device='cuda:0') torch.return_types.max(\n",
      "values=tensor([[ 5.5762,  7.5443,  6.8298,  8.6511,  7.1149, 21.7218, 10.6869, 12.3962]],\n",
      "       device='cuda:0', grad_fn=<MaxBackward0>),\n",
      "indices=tensor([[   6,    9,    5,    7, 2774, 3009,   12,    3]], device='cuda:0'))\n",
      "dec_X tensor([[   0,    6,    9,    5,    7, 2774, 3009,   12,    3]],\n",
      "       device='cuda:0')\n",
      "break [SEP] 3\n",
      "[6, 9, 5, 7, 2774, 3009, 12]\n",
      "['我', '是', '你', '的', '优', '乐美', '啊']\n"
     ]
    },
    {
     "output_type": "execute_result",
     "data": {
      "text/plain": [
       "'我 是 你 的 优 乐美 啊'"
      ]
     },
     "metadata": {},
     "execution_count": 8
    }
   ],
   "source": [
    "predict(\"你好\")"
   ]
  }
 ]
}