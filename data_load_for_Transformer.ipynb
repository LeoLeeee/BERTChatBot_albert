{
 "metadata": {
  "language_info": {
   "codemirror_mode": {
    "name": "ipython",
    "version": 3
   },
   "file_extension": ".py",
   "mimetype": "text/x-python",
   "name": "python",
   "nbconvert_exporter": "python",
   "pygments_lexer": "ipython3",
   "version": "3.8.5"
  },
  "orig_nbformat": 2,
  "kernelspec": {
   "name": "python385jvsc74a57bd087ea0c2bfc8d33363b62de134cfa12cc037bed7b7625ab24887ee8fe91891aef",
   "display_name": "Python 3.8.5 64-bit ('pytorch_gpu': conda)"
  }
 },
 "nbformat": 4,
 "nbformat_minor": 2,
 "cells": [
  {
   "cell_type": "code",
   "execution_count": 1,
   "metadata": {},
   "outputs": [],
   "source": [
    "# coding = utf-8\n",
    "import torch\n",
    "from torch import nn\n",
    "import os\n",
    "import data_load_for_Transformer as dlft\n",
    "import BERT_pretraining_single\n",
    "import BERTModel\n",
    "import Utility\n",
    "import imp\n",
    "imp.reload(BERTModel)"
   ]
  },
  {
   "cell_type": "code",
   "execution_count": 8,
   "metadata": {},
   "outputs": [
    {
     "output_type": "stream",
     "name": "stdout",
     "text": [
      "Using 'char' as tokens\n",
      "X: tensor([[ 78, 330, 588,   3,   1,   1,   1,   1],\n",
      "        [  4,  56,  26,  79,   3,   1,   1,   1]], dtype=torch.int32)\n",
      "valid lengths for X: tensor([4, 5])\n",
      "Y: tensor([[ 18,  35,  10,  70, 189,  19,  67,   5],\n",
      "        [111, 111,  25, 270, 382,   7, 189, 369]], dtype=torch.int32)\n",
      "valid lengths for Y: tensor([8, 8])\n"
     ]
    }
   ],
   "source": [
    "train_iter, vocab = load_data_xhj_for_Transformer(batch_size=2, num_steps=8)\n",
    "for X, X_valid_len, Y, Y_valid_len in train_iter:\n",
    "    print('X:', X.type(torch.int32))\n",
    "    print('valid lengths for X:', X_valid_len)\n",
    "    print('Y:', Y.type(torch.int32))\n",
    "    print('valid lengths for Y:', Y_valid_len)\n",
    "    break"
   ]
  },
  {
   "cell_type": "code",
   "execution_count": null,
   "metadata": {},
   "outputs": [],
   "source": []
  }
 ]
}